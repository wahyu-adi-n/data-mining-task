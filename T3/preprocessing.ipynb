{
 "cells": [
  {
   "cell_type": "markdown",
   "metadata": {
    "id": "wMHMpiWjZyHE"
   },
   "source": [
    "# Tugas 3 Data Mining - Preprocessing \n",
    "Nama : Wahyu Adi Nugroho <br>\n",
    "NIM  : A11.2019.12310 <br>\n",
    "Kelp : A11.46UG <br>\n",
    "____________________________________\n",
    "Kerjakan Latihan tahapan preprocessing data pada slide\n",
    "sebelumnya, dapat menggunakan dataset yang lain /\n",
    "dimodifikasi, simpan dalam preprocessing.py atau\n",
    "preprocessing.ipynb, repositorikan file pada github.com dan\n",
    "kirimkan URL github melalui Assignment pada kulino (Pada blok\n",
    "Minggu ke-3)."
   ]
  },
  {
   "cell_type": "markdown",
   "metadata": {
    "id": "fyr7Dpkhakh4"
   },
   "source": [
    "## 1. Import Library Utama"
   ]
  },
  {
   "cell_type": "code",
   "execution_count": 1,
   "metadata": {
    "id": "fUEbbUDpZwSs"
   },
   "outputs": [],
   "source": [
    "import numpy as np # mengolah matrix\n",
    "import matplotlib.pyplot as plt # membuat visualisasi data : diagram\n",
    "import pandas as pd # mengambil, mengolah, memanipulasi data"
   ]
  },
  {
   "cell_type": "markdown",
   "metadata": {
    "id": "dTBPVf2maqBr"
   },
   "source": [
    "## 2. Import Dataset"
   ]
  },
  {
   "cell_type": "code",
   "execution_count": 2,
   "metadata": {
    "id": "6nY9_IdMbwYF"
   },
   "outputs": [],
   "source": [
    "data_parpol = pd.read_csv('data-parpol.csv')\n",
    "x = data_parpol.iloc[:, :-1].values # attr1, attr2, attr3\n",
    "y = data_parpol.iloc[:, -1].values  # label"
   ]
  },
  {
   "cell_type": "code",
   "execution_count": 3,
   "metadata": {
    "colab": {
     "base_uri": "https://localhost:8080/"
    },
    "id": "GuexsO7ScWMV",
    "outputId": "6621b08b-2d03-4ab8-963c-129f73bd4f9e"
   },
   "outputs": [
    {
     "name": "stdout",
     "output_type": "stream",
     "text": [
      "[['PDIP' 15.0 27000000.0]\n",
      " ['PKS' 4.0 11000000.0]\n",
      " ['PSI' 0.0 2500000.0]\n",
      " ['Gerindra' 7.0 nan]\n",
      " ['Perindo' 0.0 3000000.0]\n",
      " ['PKPI' nan 1000000.0]\n",
      " ['PBB' 0.0 750000.0]\n",
      " ['Golkar' 8.0 20000000.0]]\n",
      "['Ya' 'Ya' 'Tidak' 'Ya' 'Tidak' 'Tidak' 'Tidak' 'Ya']\n"
     ]
    }
   ],
   "source": [
    "print(x)\n",
    "print(y)"
   ]
  },
  {
   "cell_type": "markdown",
   "metadata": {
    "id": "bwYZDw8Wchoe"
   },
   "source": [
    "## 3. Menghilangkan Missing Value"
   ]
  },
  {
   "cell_type": "code",
   "execution_count": 4,
   "metadata": {
    "id": "5QKb08XRcoyu"
   },
   "outputs": [],
   "source": [
    "from sklearn.impute import SimpleImputer\n",
    "imputer = SimpleImputer(missing_values=np.nan, strategy='mean')\n",
    "x[:, 1:3] = imputer.fit_transform(x[:, 1:3])"
   ]
  },
  {
   "cell_type": "code",
   "execution_count": 5,
   "metadata": {
    "colab": {
     "base_uri": "https://localhost:8080/"
    },
    "id": "ffNTVaifdK0y",
    "outputId": "c01702ad-ec87-4875-81e9-14dd1515aaad"
   },
   "outputs": [
    {
     "name": "stdout",
     "output_type": "stream",
     "text": [
      "[['PDIP' 15.0 27000000.0]\n",
      " ['PKS' 4.0 11000000.0]\n",
      " ['PSI' 0.0 2500000.0]\n",
      " ['Gerindra' 7.0 9321428.57142857]\n",
      " ['Perindo' 0.0 3000000.0]\n",
      " ['PKPI' 4.857142857142857 1000000.0]\n",
      " ['PBB' 0.0 750000.0]\n",
      " ['Golkar' 8.0 20000000.0]]\n"
     ]
    }
   ],
   "source": [
    "print(x)"
   ]
  },
  {
   "cell_type": "markdown",
   "metadata": {
    "id": "ek3bHqeWdtpr"
   },
   "source": [
    "## 4. Encoding data kategori (Atribut)"
   ]
  },
  {
   "cell_type": "code",
   "execution_count": 6,
   "metadata": {
    "id": "PnY2qRsJd7nE"
   },
   "outputs": [],
   "source": [
    "from sklearn.compose import ColumnTransformer\n",
    "from sklearn.preprocessing import OneHotEncoder\n",
    "ct = ColumnTransformer(transformers = [('encoder', OneHotEncoder(), [0])], remainder=\"passthrough\")\n",
    "x = np.array(ct.fit_transform(x))"
   ]
  },
  {
   "cell_type": "code",
   "execution_count": 7,
   "metadata": {
    "colab": {
     "base_uri": "https://localhost:8080/"
    },
    "id": "EOIZYm1NepMC",
    "outputId": "c5364613-21c6-4e22-844c-ba38711583e0"
   },
   "outputs": [
    {
     "name": "stdout",
     "output_type": "stream",
     "text": [
      "[[0.0 0.0 0.0 1.0 0.0 0.0 0.0 0.0 15.0 27000000.0]\n",
      " [0.0 0.0 0.0 0.0 0.0 1.0 0.0 0.0 4.0 11000000.0]\n",
      " [0.0 0.0 0.0 0.0 0.0 0.0 1.0 0.0 0.0 2500000.0]\n",
      " [1.0 0.0 0.0 0.0 0.0 0.0 0.0 0.0 7.0 9321428.57142857]\n",
      " [0.0 0.0 0.0 0.0 0.0 0.0 0.0 1.0 0.0 3000000.0]\n",
      " [0.0 0.0 0.0 0.0 1.0 0.0 0.0 0.0 4.857142857142857 1000000.0]\n",
      " [0.0 0.0 1.0 0.0 0.0 0.0 0.0 0.0 0.0 750000.0]\n",
      " [0.0 1.0 0.0 0.0 0.0 0.0 0.0 0.0 8.0 20000000.0]]\n"
     ]
    }
   ],
   "source": [
    "print(x)"
   ]
  },
  {
   "cell_type": "markdown",
   "metadata": {
    "id": "VVQZ9yStfKm3"
   },
   "source": [
    "## 5. Encoding data kategori (Class / Label)"
   ]
  },
  {
   "cell_type": "code",
   "execution_count": 8,
   "metadata": {
    "colab": {
     "base_uri": "https://localhost:8080/"
    },
    "id": "veGArRVrfKKR",
    "outputId": "c73943d3-4ce0-4dfc-ee9f-86c57c4cde21"
   },
   "outputs": [
    {
     "name": "stdout",
     "output_type": "stream",
     "text": [
      "['Ya' 'Ya' 'Tidak' 'Ya' 'Tidak' 'Tidak' 'Tidak' 'Ya']\n"
     ]
    }
   ],
   "source": [
    "print(y) # sebelum"
   ]
  },
  {
   "cell_type": "code",
   "execution_count": 9,
   "metadata": {
    "id": "x2xEEhI2fbiq"
   },
   "outputs": [],
   "source": [
    "from sklearn.preprocessing import LabelEncoder\n",
    "le = LabelEncoder()\n",
    "y = le.fit_transform(y)"
   ]
  },
  {
   "cell_type": "code",
   "execution_count": 10,
   "metadata": {
    "colab": {
     "base_uri": "https://localhost:8080/"
    },
    "id": "rh6MLcPnfxdG",
    "outputId": "a7531b64-1d07-4d06-bb9f-c95ce9b5fd4b"
   },
   "outputs": [
    {
     "name": "stdout",
     "output_type": "stream",
     "text": [
      "[1 1 0 1 0 0 0 1]\n"
     ]
    }
   ],
   "source": [
    "print(y) #sesudah"
   ]
  },
  {
   "cell_type": "markdown",
   "metadata": {
    "id": "gFhzoyKDf8gJ"
   },
   "source": [
    "## 6. Melakukan Feature Scaling"
   ]
  },
  {
   "cell_type": "code",
   "execution_count": 11,
   "metadata": {
    "id": "PbMxS7Kzf6xV"
   },
   "outputs": [],
   "source": [
    "from sklearn.preprocessing import StandardScaler\n",
    "sc = StandardScaler()\n",
    "x[:, 8:] = sc.fit_transform(x[:, 8:])"
   ]
  },
  {
   "cell_type": "code",
   "execution_count": 12,
   "metadata": {
    "colab": {
     "base_uri": "https://localhost:8080/"
    },
    "id": "FL2ccxNKhNzW",
    "outputId": "6b10dfa0-15d2-4143-a1bd-8b1c734b569b"
   },
   "outputs": [
    {
     "name": "stdout",
     "output_type": "stream",
     "text": [
      "[[0.0 0.0 0.0 1.0 0.0 0.0 0.0 0.0 2.0875582115943256 1.9484301020685981]\n",
      " [0.0 0.0 0.0 0.0 0.0 1.0 0.0 0.0 -0.17641336999388676\n",
      "  0.18500245413580632]\n",
      " [0.0 0.0 0.0 0.0 0.0 0.0 1.0 0.0 -0.9996757632986912 -0.7518184838284893]\n",
      " [1.0 0.0 0.0 0.0 0.0 0.0 0.0 0.0 0.4410334249847166 0.0]\n",
      " [0.0 0.0 0.0 0.0 0.0 0.0 0.0 1.0 -0.9996757632986912 -0.6967113698305896]\n",
      " [0.0 0.0 0.0 0.0 1.0 0.0 0.0 0.0 -1.8280097287100104e-16\n",
      "  -0.9171398258221884]\n",
      " [0.0 0.0 1.0 0.0 0.0 0.0 0.0 0.0 -0.9996757632986912 -0.9446933828211383]\n",
      " [0.0 1.0 0.0 0.0 0.0 0.0 0.0 0.0 0.6468490233109176 1.1769305060980018]]\n"
     ]
    }
   ],
   "source": [
    "print(x)"
   ]
  },
  {
   "cell_type": "markdown",
   "metadata": {
    "id": "PACbHZf8hjex"
   },
   "source": [
    "## 7. Membagi Dataset ke dalam Training dan Test Set"
   ]
  },
  {
   "cell_type": "code",
   "execution_count": 13,
   "metadata": {
    "id": "EDAF-Y-Khr01"
   },
   "outputs": [],
   "source": [
    "from sklearn.model_selection import train_test_split\n",
    "x_train, x_test, y_train, y_test = train_test_split(x, y, test_size=0.25, random_state=1)"
   ]
  },
  {
   "cell_type": "code",
   "execution_count": 14,
   "metadata": {
    "colab": {
     "base_uri": "https://localhost:8080/"
    },
    "id": "f1QolunZkpyD",
    "outputId": "3021948e-31ec-48b5-9b15-81950ebcea00"
   },
   "outputs": [
    {
     "name": "stdout",
     "output_type": "stream",
     "text": [
      "[[0.0 0.0 0.0 0.0 0.0 1.0 0.0 0.0 -0.17641336999388676\n",
      "  0.18500245413580632]\n",
      " [0.0 0.0 1.0 0.0 0.0 0.0 0.0 0.0 -0.9996757632986912 -0.9446933828211383]\n",
      " [0.0 0.0 0.0 1.0 0.0 0.0 0.0 0.0 2.0875582115943256 1.9484301020685981]\n",
      " [0.0 0.0 0.0 0.0 0.0 0.0 0.0 1.0 -0.9996757632986912 -0.6967113698305896]\n",
      " [1.0 0.0 0.0 0.0 0.0 0.0 0.0 0.0 0.4410334249847166 0.0]\n",
      " [0.0 0.0 0.0 0.0 1.0 0.0 0.0 0.0 -1.8280097287100104e-16\n",
      "  -0.9171398258221884]]\n"
     ]
    }
   ],
   "source": [
    "print(x_train)"
   ]
  },
  {
   "cell_type": "code",
   "execution_count": 15,
   "metadata": {
    "colab": {
     "base_uri": "https://localhost:8080/"
    },
    "id": "qWHIoReXkuM-",
    "outputId": "26c6fbc9-1005-420f-fffa-997c9026f08d"
   },
   "outputs": [
    {
     "name": "stdout",
     "output_type": "stream",
     "text": [
      "[[0.0 1.0 0.0 0.0 0.0 0.0 0.0 0.0 0.6468490233109176 1.1769305060980018]\n",
      " [0.0 0.0 0.0 0.0 0.0 0.0 1.0 0.0 -0.9996757632986912 -0.7518184838284893]]\n"
     ]
    }
   ],
   "source": [
    "print(x_test)"
   ]
  },
  {
   "cell_type": "code",
   "execution_count": 16,
   "metadata": {
    "colab": {
     "base_uri": "https://localhost:8080/"
    },
    "id": "2YZVp5INk3dz",
    "outputId": "d638642c-c240-4ec8-9131-039fa9dee1c7"
   },
   "outputs": [
    {
     "name": "stdout",
     "output_type": "stream",
     "text": [
      "[1 0 1 0 1 0]\n"
     ]
    }
   ],
   "source": [
    "print(y_train)"
   ]
  },
  {
   "cell_type": "code",
   "execution_count": 17,
   "metadata": {
    "colab": {
     "base_uri": "https://localhost:8080/"
    },
    "id": "sdcF732mk5Bm",
    "outputId": "d097f2a7-e649-41f2-9e9b-78f4998f25ba"
   },
   "outputs": [
    {
     "name": "stdout",
     "output_type": "stream",
     "text": [
      "[1 0]\n"
     ]
    }
   ],
   "source": [
    "print(y_test)"
   ]
  }
 ],
 "metadata": {
  "colab": {
   "name": "preprocessing.ipynb",
   "provenance": []
  },
  "kernelspec": {
   "display_name": "Python 3",
   "language": "python",
   "name": "python3"
  },
  "language_info": {
   "codemirror_mode": {
    "name": "ipython",
    "version": 3
   },
   "file_extension": ".py",
   "mimetype": "text/x-python",
   "name": "python",
   "nbconvert_exporter": "python",
   "pygments_lexer": "ipython3",
   "version": "3.8.8"
  }
 },
 "nbformat": 4,
 "nbformat_minor": 1
}
